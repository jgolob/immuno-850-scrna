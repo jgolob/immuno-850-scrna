{
 "cells": [
  {
   "cell_type": "markdown",
   "id": "bd50b58b",
   "metadata": {},
   "source": [
    "# Goal\n",
    "\n",
    "Goal here is to make a 'blank canvas' h5ad object to build out... and then later check to see if we agree with the \"official\" analysis"
   ]
  },
  {
   "cell_type": "code",
   "execution_count": 1,
   "id": "486b8bda",
   "metadata": {},
   "outputs": [],
   "source": [
    "import anndata as ad\n",
    "import pandas as pd\n",
    "import scanpy as sc\n",
    "import numpy as np"
   ]
  },
  {
   "cell_type": "code",
   "execution_count": 2,
   "id": "0b584407-5fbc-42c9-a136-117311372cec",
   "metadata": {},
   "outputs": [],
   "source": [
    "import os\n",
    "from urllib.request import urlretrieve"
   ]
  },
  {
   "cell_type": "code",
   "execution_count": 3,
   "id": "cfa6cd26",
   "metadata": {},
   "outputs": [],
   "source": [
    "# Use the matrix format as it is less filtered / transformed. A better starting point."
   ]
  },
  {
   "cell_type": "code",
   "execution_count": 4,
   "id": "94ccda18-37ea-49d9-b539-837b51440fea",
   "metadata": {},
   "outputs": [],
   "source": [
    "if not os.path.exists('data/'):\n",
    "    os.makedirs('data/')\n",
    "if not os.path.exists('data/mtx'):\n",
    "    os.makedirs('data/mtx')    "
   ]
  },
  {
   "cell_type": "code",
   "execution_count": 5,
   "id": "84665ab4-25f5-4ad1-810e-834efdc4fab2",
   "metadata": {},
   "outputs": [],
   "source": [
    "if not os.path.exists('data/mtx/Colon_immune_metadata.csv'):\n",
    "    urlretrieve(\n",
    "        'https://cellgeni.cog.sanger.ac.uk/gutcellatlas/Colon_immune_metadata.csv',\n",
    "        'data/mtx/Colon_immune_metadata.csv',\n",
    "    )"
   ]
  },
  {
   "cell_type": "code",
   "execution_count": 6,
   "id": "7a80e017-a7b9-47e2-baaf-188163be91ce",
   "metadata": {},
   "outputs": [],
   "source": [
    "if not os.path.exists('data/mtx/Colon_immune_gene_names.csv'):\n",
    "    urlretrieve(\n",
    "        'https://cellgeni.cog.sanger.ac.uk/gutcellatlas/Colon_immune_gene_names.csv',\n",
    "        'data/mtx/Colon_immune_gene_names.csv',\n",
    "    )"
   ]
  },
  {
   "cell_type": "code",
   "execution_count": 7,
   "id": "7b6ce9e9-568a-4a3d-9088-c27a4cd26dce",
   "metadata": {},
   "outputs": [],
   "source": [
    "if not os.path.exists('data/mtx/Colon_immune_counts.mtx'):\n",
    "    urlretrieve(\n",
    "        'https://cellgeni.cog.sanger.ac.uk/gutcellatlas/Colon_immune_counts.mtx',\n",
    "        'data/mtx/Colon_immune_counts.mtx',\n",
    "    )"
   ]
  },
  {
   "cell_type": "code",
   "execution_count": 8,
   "id": "2a36e20c-e020-4727-a5aa-991030ecec35",
   "metadata": {},
   "outputs": [],
   "source": [
    "if not os.path.exists('data/Colon_cell_atlas.h5ad'):\n",
    "    urlretrieve(\n",
    "        'https://cellgeni.cog.sanger.ac.uk/gutcellatlas/Colon_cell_atlas.h5ad',\n",
    "        'data/Colon_cell_atlas.h5ad',\n",
    "    )"
   ]
  },
  {
   "cell_type": "code",
   "execution_count": 9,
   "id": "ca0c3dcf",
   "metadata": {},
   "outputs": [
    {
     "name": "stderr",
     "output_type": "stream",
     "text": [
      "/var/folders/jb/3bm1mkxd6pl8cgphbhtsq1bh0000gn/T/ipykernel_4672/248912102.py:2: DtypeWarning: Columns (11,12,13,14,15,16,17,18,19,20,28,29,31,32,33,34,37) have mixed types. Specify dtype option on import or set low_memory=False.\n",
      "  pd.read_csv(\n"
     ]
    },
    {
     "data": {
      "text/html": [
       "<div>\n",
       "<style scoped>\n",
       "    .dataframe tbody tr th:only-of-type {\n",
       "        vertical-align: middle;\n",
       "    }\n",
       "\n",
       "    .dataframe tbody tr th {\n",
       "        vertical-align: top;\n",
       "    }\n",
       "\n",
       "    .dataframe thead th {\n",
       "        text-align: right;\n",
       "    }\n",
       "</style>\n",
       "<table border=\"1\" class=\"dataframe\">\n",
       "  <thead>\n",
       "    <tr style=\"text-align: right;\">\n",
       "      <th></th>\n",
       "      <th>Fraction</th>\n",
       "      <th>batch</th>\n",
       "      <th>donor</th>\n",
       "      <th>gender</th>\n",
       "      <th>region</th>\n",
       "      <th>n_genes</th>\n",
       "      <th>percent_mito</th>\n",
       "      <th>n_counts</th>\n",
       "      <th>leiden</th>\n",
       "      <th>cell_type</th>\n",
       "      <th>...</th>\n",
       "      <th>TCR_chain</th>\n",
       "      <th>TCR_v_gene</th>\n",
       "      <th>TCR_d_gene</th>\n",
       "      <th>TCR_j_gene</th>\n",
       "      <th>TCR_c_gene</th>\n",
       "      <th>TCR_cdr3</th>\n",
       "      <th>TCR_cdr3_nt</th>\n",
       "      <th>TCR_reads</th>\n",
       "      <th>TCR_umis</th>\n",
       "      <th>TCR_Clone</th>\n",
       "    </tr>\n",
       "    <tr>\n",
       "      <th>index</th>\n",
       "      <th></th>\n",
       "      <th></th>\n",
       "      <th></th>\n",
       "      <th></th>\n",
       "      <th></th>\n",
       "      <th></th>\n",
       "      <th></th>\n",
       "      <th></th>\n",
       "      <th></th>\n",
       "      <th></th>\n",
       "      <th></th>\n",
       "      <th></th>\n",
       "      <th></th>\n",
       "      <th></th>\n",
       "      <th></th>\n",
       "      <th></th>\n",
       "      <th></th>\n",
       "      <th></th>\n",
       "      <th></th>\n",
       "      <th></th>\n",
       "      <th></th>\n",
       "    </tr>\n",
       "  </thead>\n",
       "  <tbody>\n",
       "    <tr>\n",
       "      <th>AAACGGGAGGTGCAAC-1-Pan_T7935487</th>\n",
       "      <td>Total</td>\n",
       "      <td>Pan_T7935487</td>\n",
       "      <td>390c</td>\n",
       "      <td>Female</td>\n",
       "      <td>Caecum</td>\n",
       "      <td>2189</td>\n",
       "      <td>0.016568</td>\n",
       "      <td>33377.0</td>\n",
       "      <td>0</td>\n",
       "      <td>B cell IgA Plasma</td>\n",
       "      <td>...</td>\n",
       "      <td>NaN</td>\n",
       "      <td>NaN</td>\n",
       "      <td>NaN</td>\n",
       "      <td>NaN</td>\n",
       "      <td>NaN</td>\n",
       "      <td>NaN</td>\n",
       "      <td>NaN</td>\n",
       "      <td>NaN</td>\n",
       "      <td>NaN</td>\n",
       "      <td>NaN</td>\n",
       "    </tr>\n",
       "    <tr>\n",
       "      <th>AAAGATGTCCTCAACC-1-Pan_T7935487</th>\n",
       "      <td>Total</td>\n",
       "      <td>Pan_T7935487</td>\n",
       "      <td>390c</td>\n",
       "      <td>Female</td>\n",
       "      <td>Caecum</td>\n",
       "      <td>3199</td>\n",
       "      <td>0.024396</td>\n",
       "      <td>25783.0</td>\n",
       "      <td>2</td>\n",
       "      <td>B cell IgA Plasma</td>\n",
       "      <td>...</td>\n",
       "      <td>NaN</td>\n",
       "      <td>NaN</td>\n",
       "      <td>NaN</td>\n",
       "      <td>NaN</td>\n",
       "      <td>NaN</td>\n",
       "      <td>NaN</td>\n",
       "      <td>NaN</td>\n",
       "      <td>NaN</td>\n",
       "      <td>NaN</td>\n",
       "      <td>NaN</td>\n",
       "    </tr>\n",
       "    <tr>\n",
       "      <th>AAAGTAGTCTTACCGC-1-Pan_T7935487</th>\n",
       "      <td>Total</td>\n",
       "      <td>Pan_T7935487</td>\n",
       "      <td>390c</td>\n",
       "      <td>Female</td>\n",
       "      <td>Caecum</td>\n",
       "      <td>2337</td>\n",
       "      <td>0.023721</td>\n",
       "      <td>31618.0</td>\n",
       "      <td>0</td>\n",
       "      <td>B cell IgA Plasma</td>\n",
       "      <td>...</td>\n",
       "      <td>NaN</td>\n",
       "      <td>NaN</td>\n",
       "      <td>NaN</td>\n",
       "      <td>NaN</td>\n",
       "      <td>NaN</td>\n",
       "      <td>NaN</td>\n",
       "      <td>NaN</td>\n",
       "      <td>NaN</td>\n",
       "      <td>NaN</td>\n",
       "      <td>NaN</td>\n",
       "    </tr>\n",
       "    <tr>\n",
       "      <th>AACCATGCAGATTGCT-1-Pan_T7935487</th>\n",
       "      <td>Total</td>\n",
       "      <td>Pan_T7935487</td>\n",
       "      <td>390c</td>\n",
       "      <td>Female</td>\n",
       "      <td>Caecum</td>\n",
       "      <td>2923</td>\n",
       "      <td>0.020033</td>\n",
       "      <td>38287.0</td>\n",
       "      <td>0</td>\n",
       "      <td>B cell IgA Plasma</td>\n",
       "      <td>...</td>\n",
       "      <td>NaN</td>\n",
       "      <td>NaN</td>\n",
       "      <td>NaN</td>\n",
       "      <td>NaN</td>\n",
       "      <td>NaN</td>\n",
       "      <td>NaN</td>\n",
       "      <td>NaN</td>\n",
       "      <td>NaN</td>\n",
       "      <td>NaN</td>\n",
       "      <td>NaN</td>\n",
       "    </tr>\n",
       "    <tr>\n",
       "      <th>AACCATGTCCTGCCAT-1-Pan_T7935487</th>\n",
       "      <td>Total</td>\n",
       "      <td>Pan_T7935487</td>\n",
       "      <td>390c</td>\n",
       "      <td>Female</td>\n",
       "      <td>Caecum</td>\n",
       "      <td>960</td>\n",
       "      <td>0.035608</td>\n",
       "      <td>6403.0</td>\n",
       "      <td>2</td>\n",
       "      <td>B cell IgA Plasma</td>\n",
       "      <td>...</td>\n",
       "      <td>NaN</td>\n",
       "      <td>NaN</td>\n",
       "      <td>NaN</td>\n",
       "      <td>NaN</td>\n",
       "      <td>NaN</td>\n",
       "      <td>NaN</td>\n",
       "      <td>NaN</td>\n",
       "      <td>NaN</td>\n",
       "      <td>NaN</td>\n",
       "      <td>NaN</td>\n",
       "    </tr>\n",
       "  </tbody>\n",
       "</table>\n",
       "<p>5 rows × 37 columns</p>\n",
       "</div>"
      ],
      "text/plain": [
       "                                Fraction         batch donor  gender  region  \\\n",
       "index                                                                          \n",
       "AAACGGGAGGTGCAAC-1-Pan_T7935487    Total  Pan_T7935487  390c  Female  Caecum   \n",
       "AAAGATGTCCTCAACC-1-Pan_T7935487    Total  Pan_T7935487  390c  Female  Caecum   \n",
       "AAAGTAGTCTTACCGC-1-Pan_T7935487    Total  Pan_T7935487  390c  Female  Caecum   \n",
       "AACCATGCAGATTGCT-1-Pan_T7935487    Total  Pan_T7935487  390c  Female  Caecum   \n",
       "AACCATGTCCTGCCAT-1-Pan_T7935487    Total  Pan_T7935487  390c  Female  Caecum   \n",
       "\n",
       "                                 n_genes  percent_mito  n_counts  leiden  \\\n",
       "index                                                                      \n",
       "AAACGGGAGGTGCAAC-1-Pan_T7935487     2189      0.016568   33377.0       0   \n",
       "AAAGATGTCCTCAACC-1-Pan_T7935487     3199      0.024396   25783.0       2   \n",
       "AAAGTAGTCTTACCGC-1-Pan_T7935487     2337      0.023721   31618.0       0   \n",
       "AACCATGCAGATTGCT-1-Pan_T7935487     2923      0.020033   38287.0       0   \n",
       "AACCATGTCCTGCCAT-1-Pan_T7935487      960      0.035608    6403.0       2   \n",
       "\n",
       "                                         cell_type  ... TCR_chain TCR_v_gene  \\\n",
       "index                                               ...                        \n",
       "AAACGGGAGGTGCAAC-1-Pan_T7935487  B cell IgA Plasma  ...       NaN        NaN   \n",
       "AAAGATGTCCTCAACC-1-Pan_T7935487  B cell IgA Plasma  ...       NaN        NaN   \n",
       "AAAGTAGTCTTACCGC-1-Pan_T7935487  B cell IgA Plasma  ...       NaN        NaN   \n",
       "AACCATGCAGATTGCT-1-Pan_T7935487  B cell IgA Plasma  ...       NaN        NaN   \n",
       "AACCATGTCCTGCCAT-1-Pan_T7935487  B cell IgA Plasma  ...       NaN        NaN   \n",
       "\n",
       "                                TCR_d_gene TCR_j_gene TCR_c_gene TCR_cdr3  \\\n",
       "index                                                                       \n",
       "AAACGGGAGGTGCAAC-1-Pan_T7935487        NaN        NaN        NaN      NaN   \n",
       "AAAGATGTCCTCAACC-1-Pan_T7935487        NaN        NaN        NaN      NaN   \n",
       "AAAGTAGTCTTACCGC-1-Pan_T7935487        NaN        NaN        NaN      NaN   \n",
       "AACCATGCAGATTGCT-1-Pan_T7935487        NaN        NaN        NaN      NaN   \n",
       "AACCATGTCCTGCCAT-1-Pan_T7935487        NaN        NaN        NaN      NaN   \n",
       "\n",
       "                                TCR_cdr3_nt TCR_reads TCR_umis TCR_Clone  \n",
       "index                                                                     \n",
       "AAACGGGAGGTGCAAC-1-Pan_T7935487         NaN       NaN      NaN       NaN  \n",
       "AAAGATGTCCTCAACC-1-Pan_T7935487         NaN       NaN      NaN       NaN  \n",
       "AAAGTAGTCTTACCGC-1-Pan_T7935487         NaN       NaN      NaN       NaN  \n",
       "AACCATGCAGATTGCT-1-Pan_T7935487         NaN       NaN      NaN       NaN  \n",
       "AACCATGTCCTGCCAT-1-Pan_T7935487         NaN       NaN      NaN       NaN  \n",
       "\n",
       "[5 rows x 37 columns]"
      ]
     },
     "execution_count": 9,
     "metadata": {},
     "output_type": "execute_result"
    }
   ],
   "source": [
    "# Metadata has a whole bunch of analysis / 'answers' to it. We can ignore these.\n",
    "pd.read_csv(\n",
    "    'data/mtx/Colon_immune_metadata.csv',\n",
    "    index_col='index',\n",
    ").head()"
   ]
  },
  {
   "cell_type": "code",
   "execution_count": 10,
   "id": "b9583eb7",
   "metadata": {},
   "outputs": [
    {
     "name": "stderr",
     "output_type": "stream",
     "text": [
      "/var/folders/jb/3bm1mkxd6pl8cgphbhtsq1bh0000gn/T/ipykernel_4672/2503944008.py:9: DtypeWarning: Columns (11,12,13,14,15,16,17,18,19,20,28,29,31,32,33,34,37) have mixed types. Specify dtype option on import or set low_memory=False.\n",
      "  cca_mtx.obs = pd.read_csv(\n"
     ]
    },
    {
     "data": {
      "text/plain": [
       "AnnData object with n_obs × n_vars = 41650 × 22164\n",
       "    obs: 'Fraction', 'batch', 'donor', 'gender', 'region', 'n_counts', 'percent_mito'"
      ]
     },
     "execution_count": 10,
     "metadata": {},
     "output_type": "execute_result"
    }
   ],
   "source": [
    "# OK build the proper object. This will be our blank canvas to work on!\n",
    "cca_mtx = sc.read_mtx(\n",
    "    'data/mtx/Colon_immune_counts.mtx'\n",
    ")\n",
    "cca_mtx.var = pd.read_csv(\n",
    "    'data/mtx/Colon_immune_gene_names.csv',\n",
    "    index_col='index',\n",
    ")[[]]\n",
    "cca_mtx.obs = pd.read_csv(\n",
    "    'data/mtx/Colon_immune_metadata.csv',\n",
    "    index_col='index',\n",
    ")[[\n",
    "    'Fraction',\n",
    "    'batch',\n",
    "    'donor',\n",
    "    'gender',\n",
    "    'region',\n",
    "    'n_counts',\n",
    "    'percent_mito',\n",
    "    \n",
    "]]\n",
    "cca_mtx.X = cca_mtx.X.astype(np.int32)\n",
    "cca_mtx"
   ]
  },
  {
   "cell_type": "code",
   "execution_count": 11,
   "id": "40100f06",
   "metadata": {},
   "outputs": [
    {
     "data": {
      "text/plain": [
       "<41650x22164 sparse matrix of type '<class 'numpy.int32'>'\n",
       "\twith 57752072 stored elements in Compressed Sparse Row format>"
      ]
     },
     "execution_count": 11,
     "metadata": {},
     "output_type": "execute_result"
    }
   ],
   "source": [
    "cca_mtx.X"
   ]
  },
  {
   "cell_type": "code",
   "execution_count": 12,
   "id": "2530bede",
   "metadata": {},
   "outputs": [
    {
     "data": {
      "text/plain": [
       "['MT-ND1',\n",
       " 'MT-ND2',\n",
       " 'MT-CO1',\n",
       " 'MT-CO2',\n",
       " 'MT-ATP8',\n",
       " 'MT-ATP6',\n",
       " 'MT-CO3',\n",
       " 'MT-ND3',\n",
       " 'MT-ND4L',\n",
       " 'MT-ND4',\n",
       " 'MT-ND5',\n",
       " 'MT-ND6',\n",
       " 'MT-CYB']"
      ]
     },
     "execution_count": 12,
     "metadata": {},
     "output_type": "execute_result"
    }
   ],
   "source": [
    "# Check to be sure the MT genes are there...\n",
    "# .. and flag them\n",
    "cca_mtx.var['MT'] = cca_mtx.var_names.map(lambda n: n.startswith(\"MT-\"))\n",
    "\n",
    "[n for n in cca_mtx.var_names if n.startswith(\"MT-\")]"
   ]
  },
  {
   "cell_type": "code",
   "execution_count": 13,
   "id": "4aae8b3c",
   "metadata": {},
   "outputs": [
    {
     "name": "stderr",
     "output_type": "stream",
     "text": [
      "/Users/jgolob/venv/immuno850/lib/python3.11/site-packages/anndata/compat/__init__.py:311: FutureWarning: Moving element from .uns['neighbors']['distances'] to .obsp['distances'].\n",
      "\n",
      "This is where adjacency matrices should go now.\n",
      "  warn(\n",
      "/Users/jgolob/venv/immuno850/lib/python3.11/site-packages/anndata/compat/__init__.py:311: FutureWarning: Moving element from .uns['neighbors']['connectivities'] to .obsp['connectivities'].\n",
      "\n",
      "This is where adjacency matrices should go now.\n",
      "  warn(\n"
     ]
    },
    {
     "data": {
      "text/plain": [
       "AnnData object with n_obs × n_vars = 41650 × 18927\n",
       "    obs: 'donor', 'region', 'n_genes', 'percent_mito', 'n_counts', 'cell_type', 'BCR_ChainCombination', 'BCR_SEQUENCE_ID', 'IGH_V_CALL_GENOTYPED', 'IGH_D_CALL', 'IGH_J_CALL', 'BCR_ISOTYPE', 'BCR_CLONE', 'BCR_PANDONOR_CLONE', 'IGL_C_Gene', 'IGL_VDJ_Gene', 'IGH_READS', 'IGH_UMIS', 'IGH_MU_FREQ', 'IGK_READS', 'IGK_UMIS', 'IGL_READS', 'IGL_UMIS', 'TCR_v_gene', 'TCR_d_gene', 'TCR_j_gene', 'TCR_c_gene', 'TCR_cdr3', 'TCR_cdr3_nt', 'TCR_reads', 'TCR_umis', 'TCR_Clone'\n",
       "    var: 'gene_ids-Pan_T7935487', 'feature_types-Pan_T7935487', 'gene_ids-Pan_T7935488', 'feature_types-Pan_T7935488', 'gene_ids-Pan_T7935489', 'feature_types-Pan_T7935489', 'gene_ids-Pan_T7935494', 'feature_types-Pan_T7935494', 'gene_ids-4861STDY7208411', 'feature_types-4861STDY7208411', 'gene_ids-4861STDY7208413', 'feature_types-4861STDY7208413', 'gene_ids-4861STDY7208410', 'feature_types-4861STDY7208410', 'gene_ids-4861STDY7208412', 'feature_types-4861STDY7208412', 'gene_ids-4861STDY7208414', 'feature_types-4861STDY7208414', 'gene_ids-4861STDY7208415', 'feature_types-4861STDY7208415', 'gene_ids-4861STDY7208416', 'feature_types-4861STDY7208416', 'gene_ids-4861STDY7208417', 'feature_types-4861STDY7208417', 'gene_ids-4861STDY7135911', 'feature_types-4861STDY7135911', 'gene_ids-4861STDY7135912', 'feature_types-4861STDY7135912', 'gene_ids-4861STDY7135913', 'feature_types-4861STDY7135913', 'gene_ids-4861STDY7135914', 'feature_types-4861STDY7135914', 'gene_ids-4861STDY7135915', 'feature_types-4861STDY7135915', 'gene_ids-4861STDY7135916', 'feature_types-4861STDY7135916', 'gene_ids-4861STDY7135917', 'feature_types-4861STDY7135917', 'gene_ids-4861STDY7135918', 'feature_types-4861STDY7135918', 'gene_ids-Human_colon_16S7255675', 'feature_types-Human_colon_16S7255675', 'gene_ids-Human_colon_16S7255676', 'feature_types-Human_colon_16S7255676', 'gene_ids-Human_colon_16S7255677', 'feature_types-Human_colon_16S7255677', 'gene_ids-Human_colon_16S7255678', 'feature_types-Human_colon_16S7255678', 'gene_ids-Human_colon_16S7255679', 'feature_types-Human_colon_16S7255679', 'gene_ids-Human_colon_16S7255680', 'feature_types-Human_colon_16S7255680', 'gene_ids-Human_colon_16S7255681', 'feature_types-Human_colon_16S7255681', 'gene_ids-Human_colon_16S7255682', 'feature_types-Human_colon_16S7255682', 'gene_ids-Human_colon_16S8001863', 'feature_types-Human_colon_16S8001863', 'gene_ids-Human_colon_16S8001867', 'feature_types-Human_colon_16S8001867', 'gene_ids-Human_colon_16S8001871', 'feature_types-Human_colon_16S8001871', 'gene_ids-Human_colon_16S8000484', 'feature_types-Human_colon_16S8000484', 'n_cells', 'highly_variable', 'means', 'dispersions', 'dispersions_norm'\n",
       "    uns: 'ISOTYPE_colors', 'TCR_Clone_colors', 'TCR_cdr3_colors', 'TCR_chain_colors', 'annotation3_colors', 'annotation4_colors', 'donor_colors', 'leiden', 'leiden_colors', 'neighbors', 'pca', 'rank_genes_groups', 'region_colors'\n",
       "    obsm: 'X_pca', 'X_umap'\n",
       "    obsp: 'distances', 'connectivities'"
      ]
     },
     "execution_count": 13,
     "metadata": {},
     "output_type": "execute_result"
    }
   ],
   "source": [
    "# For comparison sake, there is an 'offical' H5AD formatted object, but the counts are *not* stored anywhere!\n",
    "cca = ad.read_h5ad(\n",
    "    'data/Colon_cell_atlas.h5ad'\n",
    ")\n",
    "cca"
   ]
  },
  {
   "cell_type": "code",
   "execution_count": 14,
   "id": "bce3abb7",
   "metadata": {},
   "outputs": [
    {
     "data": {
      "text/plain": [
       "index\n",
       "AAACGGGAGGTGCAAC-1-Pan_T7935487              33377.0\n",
       "AAAGATGTCCTCAACC-1-Pan_T7935487              25783.0\n",
       "AAAGTAGTCTTACCGC-1-Pan_T7935487              31618.0\n",
       "AACCATGCAGATTGCT-1-Pan_T7935487              38287.0\n",
       "AACCATGTCCTGCCAT-1-Pan_T7935487               6403.0\n",
       "                                              ...   \n",
       "TTTGTCACAAGTTAAG-1-Human_colon_16S8000484     4427.0\n",
       "TTTGTCAGTACCGAGA-1-Human_colon_16S8000484     1399.0\n",
       "TTTGTCATCAACACCA-1-Human_colon_16S8000484     4371.0\n",
       "TTTGTCATCCCAACGG-1-Human_colon_16S8000484     2818.0\n",
       "TTTGTCATCGGTGTCG-1-Human_colon_16S8000484     2665.0\n",
       "Name: n_counts, Length: 41650, dtype: float32"
      ]
     },
     "execution_count": 14,
     "metadata": {},
     "output_type": "execute_result"
    }
   ],
   "source": [
    "cca.obs['n_counts']"
   ]
  },
  {
   "cell_type": "code",
   "execution_count": 15,
   "id": "700f3250",
   "metadata": {},
   "outputs": [
    {
     "data": {
      "text/plain": [
       "matrix([[1181.7858],\n",
       "        [2232.548 ],\n",
       "        [1308.2738],\n",
       "        ...,\n",
       "        [2031.99  ],\n",
       "        [2138.0146],\n",
       "        [2072.032 ]], dtype=float32)"
      ]
     },
     "execution_count": 15,
     "metadata": {},
     "output_type": "execute_result"
    }
   ],
   "source": [
    "cca.X.sum(axis=1)"
   ]
  },
  {
   "cell_type": "code",
   "execution_count": 16,
   "id": "ddc4a728",
   "metadata": {},
   "outputs": [
    {
     "data": {
      "text/plain": [
       "matrix([[33377],\n",
       "        [25783],\n",
       "        [31619],\n",
       "        ...,\n",
       "        [ 4371],\n",
       "        [ 2818],\n",
       "        [ 2665]])"
      ]
     },
     "execution_count": 16,
     "metadata": {},
     "output_type": "execute_result"
    }
   ],
   "source": [
    "# In contrast, the one we made from the MTX is correct\n",
    "cca_mtx.X.sum(axis=1)"
   ]
  },
  {
   "cell_type": "code",
   "execution_count": 17,
   "id": "41d5ef69",
   "metadata": {},
   "outputs": [
    {
     "data": {
      "text/plain": [
       "AnnData object with n_obs × n_vars = 41650 × 22164\n",
       "    obs: 'Fraction', 'batch', 'donor', 'gender', 'region', 'n_counts', 'percent_mito'\n",
       "    var: 'MT'"
      ]
     },
     "execution_count": 17,
     "metadata": {},
     "output_type": "execute_result"
    }
   ],
   "source": [
    "cca_mtx.write_h5ad(\n",
    "    'data/Colon_cell_atlas.clean.h5ad'\n",
    ")\n",
    "cca_mtx"
   ]
  },
  {
   "cell_type": "code",
   "execution_count": null,
   "id": "ddbff512",
   "metadata": {},
   "outputs": [],
   "source": []
  }
 ],
 "metadata": {
  "kernelspec": {
   "display_name": "Python 3 (ipykernel)",
   "language": "python",
   "name": "python3"
  },
  "language_info": {
   "codemirror_mode": {
    "name": "ipython",
    "version": 3
   },
   "file_extension": ".py",
   "mimetype": "text/x-python",
   "name": "python",
   "nbconvert_exporter": "python",
   "pygments_lexer": "ipython3",
   "version": "3.11.7"
  }
 },
 "nbformat": 4,
 "nbformat_minor": 5
}
